{
 "cells": [
  {
   "cell_type": "code",
   "execution_count": 1,
   "metadata": {
    "collapsed": false
   },
   "outputs": [
    {
     "name": "stderr",
     "output_type": "stream",
     "text": [
      "Using TensorFlow backend.\n"
     ]
    }
   ],
   "source": [
    "from sys import argv\n",
    "import parser_x\n",
    "import numpy as np\n",
    "import extractor\n",
    "import merging as main\n",
    "import filter\n",
    "import nltk\n",
    "from nltk.corpus import wordnet\n",
    "from gensim import corpora\n",
    "import gensim\n",
    "import additional_filter\n"
   ]
  },
  {
   "cell_type": "markdown",
   "metadata": {},
   "source": [
    "# You can replace file name with your own file."
   ]
  },
  {
   "cell_type": "code",
   "execution_count": 3,
   "metadata": {
    "collapsed": true
   },
   "outputs": [],
   "source": [
    "input_file=\"hotel_test.txt\"\n",
    "no_of_sentences_in_summary=4"
   ]
  },
  {
   "cell_type": "markdown",
   "metadata": {},
   "source": [
    "#Used to create synonyms of input categories"
   ]
  },
  {
   "cell_type": "code",
   "execution_count": 4,
   "metadata": {
    "collapsed": true
   },
   "outputs": [],
   "source": [
    "def synonyms_creator(word):\n",
    "    synonyms = []\n",
    "    for syn in wordnet.synsets(word):\n",
    "         for l in syn.lemmas():\n",
    "            synonyms.append(l.name())\n",
    "    syn=set(synonyms)\n",
    "    list_values = [ v for v in syn]\n",
    "    return (list_values)"
   ]
  },
  {
   "cell_type": "markdown",
   "metadata": {},
   "source": [
    "## input categories here"
   ]
  },
  {
   "cell_type": "code",
   "execution_count": 5,
   "metadata": {
    "collapsed": false
   },
   "outputs": [
    {
     "name": "stdout",
     "output_type": "stream",
     "text": [
      "Enter no. of Different categories you want to see\n",
      "n3\n",
      "Input 3 Categories in which you want to specifically see:\n",
      "hotels\n",
      "staff\n",
      "food\n"
     ]
    }
   ],
   "source": [
    "print('Enter no. of Different categories you want to see')\n",
    "\n",
    "n_topic=input('n')\n",
    "text=[]\n",
    "print('Input '+ n_topic+\" Categories in which you want to specifically see:\")\n",
    "for i in range(0,int(n_topic)):\n",
    "    text.append(input())"
   ]
  },
  {
   "cell_type": "markdown",
   "metadata": {},
   "source": [
    "## creating synonyms of all the input categories"
   ]
  },
  {
   "cell_type": "code",
   "execution_count": 6,
   "metadata": {
    "collapsed": false
   },
   "outputs": [
    {
     "data": {
      "text/plain": [
       "[['hotel'],\n",
       " ['stave', 'faculty', 'staff'],\n",
       " ['nutrient',\n",
       "  'solid_food',\n",
       "  'food_for_thought',\n",
       "  'food',\n",
       "  'intellectual_nourishment']]"
      ]
     },
     "execution_count": 6,
     "metadata": {},
     "output_type": "execute_result"
    }
   ],
   "source": [
    "#input_word=['rooms','food','staff','hotel','bathroom','shower','breakfast']\n",
    "input_word=text\n",
    "topics=[]\n",
    "for x in input_word:\n",
    "    topics.append(synonyms_creator(x))\n",
    "topics    "
   ]
  },
  {
   "cell_type": "markdown",
   "metadata": {},
   "source": [
    "## CREATING A CATEGORY FOR OTHER"
   ]
  },
  {
   "cell_type": "code",
   "execution_count": 7,
   "metadata": {
    "collapsed": true
   },
   "outputs": [],
   "source": [
    "input_word.append('Other ')"
   ]
  },
  {
   "cell_type": "markdown",
   "metadata": {},
   "source": [
    "# Finally Printing Catagorical summary of the whole data. "
   ]
  },
  {
   "cell_type": "code",
   "execution_count": 8,
   "metadata": {
    "collapsed": false
   },
   "outputs": [
    {
     "name": "stdout",
     "output_type": "stream",
     "text": [
      "hotels: \n",
      "The hotel was clean and the staff was friendly. The staff was nice and the hotel was clean. On the upside, the hotel was nice, quite, and staff was very friendly. The hotel was very very very noisy. \n",
      "staff: \n",
      "The staff was nice and the hotel was clean. On the upside, the hotel was nice, quite, and staff was very friendly. The room was clean and comfortable, the pool was very clean, and the staff was helpful. The staff was friendly, as was the concierge. \n",
      "food: \n",
      "\"\"I was there in November, and the food at the breakfast buffet was awful and overpriced. The hotel was beautiful, the staff was very friendly and helpful, and the food we ate there in the restaurant, both for breakfast and lunch, was delicious. The service was spectacular and the food was exquisite. Room service was very prompt, and the food (breakfast) was good. \n",
      "Other : \n",
      "Room was beautiful, but parking was --. The room was clean and comfortable, the pool was very clean, and the staff was helpful. My room was very clean and comfortable, the bathroom was very unique. The staff was friendly, as was the concierge. \n",
      "\n"
     ]
    }
   ],
   "source": [
    "sentence=main.summarize(input_file,topics,input_word,no_of_sentences_in_summary)\n",
    "sentence=additional_filter.last_filter(sentence)\n",
    "print(sentence)\n"
   ]
  },
  {
   "cell_type": "code",
   "execution_count": null,
   "metadata": {
    "collapsed": true
   },
   "outputs": [],
   "source": []
  }
 ],
 "metadata": {
  "kernelspec": {
   "display_name": "Python 3",
   "language": "python",
   "name": "python3"
  },
  "language_info": {
   "codemirror_mode": {
    "name": "ipython",
    "version": 3
   },
   "file_extension": ".py",
   "mimetype": "text/x-python",
   "name": "python",
   "nbconvert_exporter": "python",
   "pygments_lexer": "ipython3",
   "version": "3.6.3"
  }
 },
 "nbformat": 4,
 "nbformat_minor": 2
}
